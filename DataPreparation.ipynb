{
 "cells": [
  {
   "cell_type": "code",
   "execution_count": 2,
   "id": "92528235-c365-407b-aa8c-9cf93c9f0df8",
   "metadata": {},
   "outputs": [],
   "source": [
    "import pandas as pd\n",
    "import os\n",
    "import matplotlib.pyplot as plt\n",
    "import numpy as np\n",
    "import datetime\n",
    "import seaborn as sns\n",
    "from pandas.tseries.offsets import MonthEnd"
   ]
  },
  {
   "cell_type": "code",
   "execution_count": 3,
   "id": "d9c1c433-c633-44c7-ae06-d7e45b9d347a",
   "metadata": {},
   "outputs": [],
   "source": [
    "#Custom functions\n",
    "def daterange(x,y):\n",
    "    dates = pd.date_range(x,y, freq='d')\n",
    "    return dates "
   ]
  },
  {
   "cell_type": "code",
   "execution_count": 4,
   "id": "ab470faa-bf58-4099-8a20-4b56ed20397d",
   "metadata": {},
   "outputs": [
    {
     "name": "stdout",
     "output_type": "stream",
     "text": [
      "c:\\Users\\Shraddha.Mishra\\OneDrive - Shell\\Career_development\\Projects\\Ultimate Potential South Africa\n"
     ]
    }
   ],
   "source": [
    "directory = os.getcwd()\n",
    "print(directory)\n",
    "folder = r\"C:\\Users\\Shraddha.Mishra\\OneDrive - Shell\\Career_development\\Projects\\Ultimate Potential South Africa\\OneDrive_1_7-25-2024\\Sales Data\"\n",
    "# folder = 'Sales Data'"
   ]
  },
  {
   "cell_type": "code",
   "execution_count": 5,
   "id": "30a8f75b-118c-4ea3-877b-3343cfc6b4fb",
   "metadata": {},
   "outputs": [
    {
     "data": {
      "text/plain": [
       "'C:\\\\Users\\\\Shraddha.Mishra\\\\OneDrive - Shell\\\\Career_development\\\\Projects\\\\Ultimate Potential South Africa\\\\OneDrive_1_7-25-2024\\\\Sales Data'"
      ]
     },
     "execution_count": 5,
     "metadata": {},
     "output_type": "execute_result"
    }
   ],
   "source": [
    "path = os.path.join(directory,folder)\n",
    "path"
   ]
  },
  {
   "cell_type": "markdown",
   "id": "f220d3c1-57e6-4f61-918d-01d6e738b6ce",
   "metadata": {},
   "source": [
    "## Reading Sales Data"
   ]
  },
  {
   "cell_type": "code",
   "execution_count": 6,
   "id": "4058a52c-8615-4a9c-b182-bb0a664f7b7c",
   "metadata": {},
   "outputs": [
    {
     "name": "stdout",
     "output_type": "stream",
     "text": [
      "C:\\Users\\Shraddha.Mishra\\OneDrive - Shell\\Career_development\\Projects\\Ultimate Potential South Africa\\OneDrive_1_7-25-2024\\Sales Data\\Year_2019.csv\n",
      "C:\\Users\\Shraddha.Mishra\\OneDrive - Shell\\Career_development\\Projects\\Ultimate Potential South Africa\\OneDrive_1_7-25-2024\\Sales Data\\Year_2020.csv\n",
      "C:\\Users\\Shraddha.Mishra\\OneDrive - Shell\\Career_development\\Projects\\Ultimate Potential South Africa\\OneDrive_1_7-25-2024\\Sales Data\\Year_2021.csv\n",
      "C:\\Users\\Shraddha.Mishra\\OneDrive - Shell\\Career_development\\Projects\\Ultimate Potential South Africa\\OneDrive_1_7-25-2024\\Sales Data\\Year_2022.csv\n",
      "C:\\Users\\Shraddha.Mishra\\OneDrive - Shell\\Career_development\\Projects\\Ultimate Potential South Africa\\OneDrive_1_7-25-2024\\Sales Data\\Year_2023.csv\n",
      "C:\\Users\\Shraddha.Mishra\\OneDrive - Shell\\Career_development\\Projects\\Ultimate Potential South Africa\\OneDrive_1_7-25-2024\\Sales Data\\Year_2024.csv\n"
     ]
    }
   ],
   "source": [
    "full_data = pd.DataFrame()\n",
    "for root,dirs,files in os.walk(path):\n",
    "    for file in files:\n",
    "       if file.endswith(\".csv\"):\n",
    "           print(os.path.join(root,file))\n",
    "           df = pd.read_csv(os.path.join(root,file))\n",
    "           full_data = pd.concat([df,full_data])           "
   ]
  },
  {
   "cell_type": "code",
   "execution_count": 7,
   "id": "6d21dc4d-b309-4253-8bd6-dc99b4abf7f1",
   "metadata": {
    "scrolled": true
   },
   "outputs": [
    {
     "data": {
      "text/plain": [
       "(2781090, 13)"
      ]
     },
     "execution_count": 7,
     "metadata": {},
     "output_type": "execute_result"
    }
   ],
   "source": [
    "full_data.shape"
   ]
  },
  {
   "cell_type": "code",
   "execution_count": 8,
   "id": "65e14136-fdcd-426e-b98b-861379e94f65",
   "metadata": {},
   "outputs": [
    {
     "data": {
      "text/plain": [
       "Company Code             object\n",
       "Distribution Channel     object\n",
       "BL Date                   int64\n",
       "Sales Order Number        int64\n",
       "Material Number           int64\n",
       "Material Text            object\n",
       "Movement Type             int64\n",
       "Receiving Plant Code     object\n",
       "Receiving Plant Name     object\n",
       "Billing Document        float64\n",
       "Ship To                   int64\n",
       "Ship To Name             object\n",
       "Sales Volumes in L15    float64\n",
       "dtype: object"
      ]
     },
     "execution_count": 8,
     "metadata": {},
     "output_type": "execute_result"
    }
   ],
   "source": [
    "full_data.dtypes"
   ]
  },
  {
   "cell_type": "code",
   "execution_count": 9,
   "id": "a5c15249-cddd-45ab-ac9d-5b670fa67efa",
   "metadata": {},
   "outputs": [],
   "source": [
    "full_data['date'] = pd.to_datetime(full_data['BL Date'], format='%Y%m%d')"
   ]
  },
  {
   "cell_type": "markdown",
   "id": "5a94cb1f-cf88-4896-a16e-3d42828a12cf",
   "metadata": {},
   "source": [
    "## Adding External Features"
   ]
  },
  {
   "cell_type": "code",
   "execution_count": 10,
   "id": "490a4e27-405f-4fd6-8f35-41ebfa4bccaf",
   "metadata": {},
   "outputs": [],
   "source": [
    "material_list = [400003103,400003118,400003139,400003151,400003154,400003159,400006090]"
   ]
  },
  {
   "cell_type": "code",
   "execution_count": 11,
   "id": "016e4a97-1d79-4d49-8915-e0de8b22c260",
   "metadata": {},
   "outputs": [],
   "source": [
    "full_data = full_data[full_data['Material Number'].isin(material_list) ]"
   ]
  },
  {
   "cell_type": "code",
   "execution_count": 12,
   "id": "4c9e2f64-f310-46cb-84bb-3a9fe60798fd",
   "metadata": {},
   "outputs": [
    {
     "data": {
      "text/plain": [
       "(2624953, 14)"
      ]
     },
     "execution_count": 12,
     "metadata": {},
     "output_type": "execute_result"
    }
   ],
   "source": [
    "full_data.shape"
   ]
  },
  {
   "cell_type": "code",
   "execution_count": 13,
   "id": "7b363714-d6e2-49fc-970a-abc5d439ef37",
   "metadata": {},
   "outputs": [],
   "source": [
    "#Adding Holidays\n",
    "folder = 'External Variables'\n",
    "file = 'SA Holiday Calendar.xlsx'\n",
    "holidays = pd.read_excel(os.path.join(directory,folder, file))\n",
    "\n",
    "#Writing Holidays file\n",
    "subfolder = 'EDA'\n",
    "subfolder_1 = 'External Vars Processed'\n",
    "filename = 'holidays.csv'\n",
    "\n",
    "write_path = os.path.join(directory,subfolder,subfolder_1,filename)\n",
    "holidays.to_csv(write_path)\n",
    "\n",
    "# full_data means sales data of year\n",
    "full_data_timeseries = pd.merge(full_data,holidays, left_on = 'date', right_on = 'Holiday', how = 'left')\n",
    "\n",
    "full_data_timeseries = full_data_timeseries.drop('Holiday', axis = 1)\n",
    "full_data_timeseries['Holiday Desc'] = full_data_timeseries['Holiday Desc'].fillna('NA')\n",
    "full_data_timeseries['Holiday_Grouping'] = full_data_timeseries['Holiday_Grouping'].fillna('NA')\n",
    "full_data_timeseries['Holiday Flag'] = full_data_timeseries['Holiday Flag'].fillna(0)"
   ]
  },
  {
   "cell_type": "code",
   "execution_count": 14,
   "id": "be5133e6-7f97-441e-a4ea-394281d58341",
   "metadata": {},
   "outputs": [
    {
     "data": {
      "text/plain": [
       "(2624953, 17)"
      ]
     },
     "execution_count": 14,
     "metadata": {},
     "output_type": "execute_result"
    }
   ],
   "source": [
    "full_data_timeseries.shape\n",
    "\n",
    "# full_data_timeseries.head()"
   ]
  },
  {
   "cell_type": "code",
   "execution_count": 15,
   "id": "c6eee76e-c347-4a8b-a209-29e84f1efdac",
   "metadata": {},
   "outputs": [],
   "source": [
    "#Reading Lockdowns\n",
    "folder = 'External Variables'\n",
    "file = 'SA Lockdown.xlsx'\n",
    "lockdowns = pd.read_excel(os.path.join(directory,folder, file))\n",
    "lockdowns = lockdowns[~lockdowns['End Date'].isna()] \n",
    "lockdowns['Date_Range'] = lockdowns.apply(lambda x: daterange(x['Start Date'], x['End Date']), axis=1)\n",
    "\n",
    "# Expand Lists into Rows: The explode() function is used to transform each element of a list-like column into its own row,\n",
    "# duplicating the values of other columns accordingly.\n",
    "lockdowns = lockdowns.explode('Date_Range')\n",
    "lockdowns = lockdowns[['Province','Date_Range']]\n",
    "lockdowns.drop_duplicates(inplace = True)\n",
    "\n",
    "#Reading Provice\n",
    "folder = 'Mapping Files'\n",
    "file = 'SA_Site_Mapping.xlsx'\n",
    "sites = pd.read_excel(os.path.join(directory,folder, file))\n",
    "sites = sites[sites['Site Status'] != 'Inactive']\n",
    "sites = sites[['Ship To Party Code','Plant Code','Province']]\n",
    "sites.drop_duplicates(inplace = True)\n",
    "\n",
    "#Writing Lockdowns\n",
    "filename = 'lockdowns.csv'\n",
    "write_path = os.path.join(directory,subfolder,subfolder_1,filename)\n",
    "lockdowns.to_csv(write_path)\n",
    "\n",
    "#writing Province\n",
    "filename = 'province.csv'\n",
    "write_path = os.path.join(directory,subfolder,subfolder_1,filename)\n",
    "sites.to_csv(write_path)\n",
    "\n",
    "#Adding Lockdowns\n",
    "full_data_timeseries = pd.merge(full_data_timeseries,sites, left_on = ['Ship To','Receiving Plant Code'], right_on = ['Ship To Party Code','Plant Code'], how = 'left')\n",
    "full_data_timeseries = pd.merge(full_data_timeseries,lockdowns, left_on = ['Province','date'], right_on = ['Province','Date_Range'], how = 'left')\n",
    "full_data_timeseries = full_data_timeseries.drop('Ship To Party Code', axis = 1)\n",
    "full_data_timeseries = full_data_timeseries.drop('Plant Code', axis = 1)\n",
    "full_data_timeseries['LockDown Flag'] = full_data_timeseries['Date_Range'].apply(lambda x: 0 if pd.isnull(x) else 1)\n",
    "full_data_timeseries = full_data_timeseries.drop('Date_Range', axis = 1)"
   ]
  },
  {
   "cell_type": "code",
   "execution_count": 16,
   "id": "c5feea6c-2ae5-4657-8741-3747b61015d9",
   "metadata": {},
   "outputs": [
    {
     "data": {
      "text/plain": [
       "(2624953, 19)"
      ]
     },
     "execution_count": 16,
     "metadata": {},
     "output_type": "execute_result"
    }
   ],
   "source": [
    "full_data_timeseries.shape\n",
    "# full_data_timeseries.head()"
   ]
  },
  {
   "cell_type": "code",
   "execution_count": 17,
   "id": "16a6a52a-85b8-449a-9e69-cb6524ce5ff1",
   "metadata": {},
   "outputs": [],
   "source": [
    "#Reading Depot Mapping\n",
    "folder = 'Mapping Files'\n",
    "file = 'SA_Depot_Mapping.xlsx'\n",
    "depots = pd.read_excel(os.path.join(directory,folder, file))[['Plant','Region']]\n",
    "depots.drop_duplicates(inplace = True)\n",
    "\n",
    "folder = 'Mapping Files'\n",
    "file = 'SA_Material_Mapping.xlsx'\n",
    "materials = pd.read_excel(os.path.join(directory,folder, file))[['Material Number','Grade Type']]\n",
    "materials.drop_duplicates(inplace = True)\n",
    "\n",
    "#Adding Region and Grade Type\n",
    "full_data_timeseries = pd.merge(full_data_timeseries,depots, left_on = ['Receiving Plant Code'], right_on = ['Plant'], how = 'left')\n",
    "full_data_timeseries = full_data_timeseries.drop('Plant', axis = 1)\n",
    "full_data_timeseries = pd.merge(full_data_timeseries,materials, on = ['Material Number'], how = 'left')"
   ]
  },
  {
   "cell_type": "code",
   "execution_count": 18,
   "id": "d6266544-36fd-444a-8db5-112d6f7344c4",
   "metadata": {},
   "outputs": [
    {
     "data": {
      "text/plain": [
       "(2624953, 21)"
      ]
     },
     "execution_count": 18,
     "metadata": {},
     "output_type": "execute_result"
    }
   ],
   "source": [
    "full_data_timeseries.shape\n",
    "# done till here "
   ]
  },
  {
   "cell_type": "code",
   "execution_count": 19,
   "id": "f084c48c-af0f-44c7-ae5a-87af9f9b3b76",
   "metadata": {},
   "outputs": [],
   "source": [
    "#Reading Price Details\n",
    "folder = 'External Variables'\n",
    "file = 'SA Price Information.xlsx'\n",
    "price = pd.read_excel(os.path.join(directory,folder, file))\n",
    "\n",
    "price.sort_values(by=['Location', 'Grade Type','Date'], inplace=True)\n",
    "price['End Date'] = price.groupby(['Location','Grade Type'])['Date'].shift(-1)\n",
    "max_date = max(price['Date'])\n",
    "price['End Date'] = price['End Date'].fillna(max_date.date().strftime('%Y-%m-%d'))\n",
    "price['Date_Range'] = price.apply(lambda x: daterange(x['Date'], x['End Date']), axis=1)\n",
    "price = price.explode('Date_Range')\n",
    "price = price[price['Date_Range'] < price['End Date']]\n",
    "price = price[['Location','Grade Type','Date_Range','Fuel Price']]\n",
    "agg = {      \n",
    "   'Fuel Price': 'mean'\n",
    "}\n",
    "price = price.groupby(['Grade Type','Date_Range']).aggregate(agg).reset_index()\n",
    "price.drop_duplicates(inplace = True)\n",
    "\n",
    "#writing Price\n",
    "filename = 'price.csv'\n",
    "write_path = os.path.join(directory,subfolder,subfolder_1,filename)\n",
    "price.to_csv(write_path)\n",
    "\n",
    "#Adding Price Details\n",
    "full_data_timeseries = pd.merge(full_data_timeseries,price, left_on = ['Grade Type','date'], right_on = ['Grade Type','Date_Range'], how = 'left')\n",
    "full_data_timeseries = full_data_timeseries.drop('Date_Range', axis = 1)"
   ]
  },
  {
   "cell_type": "code",
   "execution_count": 20,
   "id": "e20e4771-fcbf-4630-acfa-cfcacd697df6",
   "metadata": {},
   "outputs": [
    {
     "data": {
      "text/plain": [
       "(2624953, 22)"
      ]
     },
     "execution_count": 20,
     "metadata": {},
     "output_type": "execute_result"
    }
   ],
   "source": [
    "full_data_timeseries.shape\n",
    "# directory = r\"C:\\Users\\Shraddha.Mishra\\OneDrive - Shell\\Career_development\\Projects\\Ultimate Potential South Africa\""
   ]
  },
  {
   "cell_type": "code",
   "execution_count": 22,
   "id": "225c4587-233a-42f6-8cc9-a025420712e3",
   "metadata": {},
   "outputs": [
    {
     "name": "stdout",
     "output_type": "stream",
     "text": [
      "Loyalty data types after conversion:\n"
     ]
    }
   ],
   "source": [
    "#Reading Loyalty Programes\n",
    "agg = {      \n",
    "   'Estimated Budget in ZAR': 'sum',\n",
    "    'Campaign Description':'nunique'\n",
    "}\n",
    "\n",
    "folder = 'External Variables'\n",
    "file = 'SA Retail Loyalty Data.xlsx'\n",
    "loyalty = pd.read_excel(os.path.join(directory,folder, file))\n",
    "loyalty = loyalty[['Campaign Description','Estimated Budget in ZAR','Start Date','End Date']]\n",
    "\n",
    "\n",
    "loyalty['Estimated Budget in ZAR'] = pd.to_numeric(loyalty['Estimated Budget in ZAR'], errors='coerce')\n",
    "loyalty['Campaign Description'] = loyalty['Campaign Description'].astype(str)\n",
    "\n",
    "print(\"Loyalty data types after conversion:\")\n",
    "    # print(loyalty.dtypes)\n",
    "    # print(loyalty['Estimated Budget in ZAR'].unique())\n",
    "    \n",
    "loyalty = loyalty.dropna(subset=['Estimated Budget in ZAR'])\n",
    "\n",
    "loyalty['Date_Range'] = loyalty.apply(lambda x: daterange(x['Start Date'], x['End Date']), axis=1)\n",
    "loyalty = loyalty.explode('Date_Range')\n",
    "loyalty['Estimated Budget in ZAR']\n",
    "loyalty = loyalty[['Campaign Description','Estimated Budget in ZAR','Date_Range']]\n",
    "loyalty = loyalty.groupby('Date_Range').aggregate(agg).reset_index()\n",
    "\n",
    "#Reading Marketing Programes\n",
    "agg = {      \n",
    "   'Estimated Budget in USD': 'sum',\n",
    "    'Potential Impact Percentage': 'mean',\n",
    "    'Campaign Name/ID':'nunique'\n",
    "}\n",
    "folder = 'External Variables'\n",
    "file = 'SA Retail Marketing Data.xlsx'\n",
    "marketing = pd.read_excel(os.path.join(directory,folder, file))\n",
    "marketing = marketing[['Campaign Name/ID','Estimated Budget in USD','Potential Impact Percentage','Start Date','End Date']]\n",
    "marketing['Date_Range'] = marketing.apply(lambda x: daterange(x['Start Date'], x['End Date']), axis=1)\n",
    "marketing = marketing.explode('Date_Range')\n",
    "marketing = marketing[['Campaign Name/ID','Estimated Budget in USD','Potential Impact Percentage','Date_Range']]\n",
    "marketing = marketing.groupby('Date_Range').aggregate(agg).reset_index()\n",
    "\n",
    "#writing Loyalty\n",
    "filename = 'loyalty.csv'\n",
    "write_path = os.path.join(directory,subfolder,subfolder_1,filename)\n",
    "loyalty.to_csv(write_path)\n",
    "\n",
    "#writing Marketing\n",
    "filename = 'marketing.csv'\n",
    "write_path = os.path.join(directory,subfolder,subfolder_1,filename)\n",
    "marketing.to_csv(write_path)\n",
    "\n",
    "#Adding Loyalty\n",
    "full_data_timeseries = pd.merge(full_data_timeseries,loyalty, left_on = ['date'], right_on = ['Date_Range'], how = 'left')\n",
    "full_data_timeseries['Loyalty Flag'] = full_data_timeseries['Date_Range'].apply(lambda x: 0 if pd.isnull(x) else 1)\n",
    "full_data_timeseries = full_data_timeseries.drop('Date_Range', axis = 1)\n",
    "\n",
    "#Marketing\n",
    "full_data_timeseries = pd.merge(full_data_timeseries,marketing, left_on = ['date'], right_on = ['Date_Range'], how = 'left')\n",
    "full_data_timeseries['Marketing Flag'] = full_data_timeseries['Date_Range'].apply(lambda x: 0 if pd.isnull(x) else 1)\n",
    "full_data_timeseries = full_data_timeseries.drop('Date_Range', axis = 1)"
   ]
  },
  {
   "cell_type": "code",
   "execution_count": 23,
   "id": "84f87ff5-752b-43f7-87c0-7ef52e3b569e",
   "metadata": {},
   "outputs": [
    {
     "data": {
      "text/plain": [
       "(2624953, 29)"
      ]
     },
     "execution_count": 23,
     "metadata": {},
     "output_type": "execute_result"
    }
   ],
   "source": [
    "full_data_timeseries.shape"
   ]
  },
  {
   "cell_type": "code",
   "execution_count": 24,
   "id": "e12f4226-3373-4f83-a7d7-2f6f8c3eaab9",
   "metadata": {},
   "outputs": [],
   "source": [
    "#Writing the Data\n",
    "folder = 'EDA'\n",
    "filename = 'ProcessedData.csv'\n",
    "write_path = os.path.join(directory,folder,filename)\n",
    "full_data_timeseries.to_csv(write_path)"
   ]
  },
  {
   "cell_type": "code",
   "execution_count": 25,
   "id": "0f965f8f-5853-40af-b63f-79a20a17fad7",
   "metadata": {},
   "outputs": [
    {
     "data": {
      "text/plain": [
       "(2624953, 29)"
      ]
     },
     "execution_count": 25,
     "metadata": {},
     "output_type": "execute_result"
    }
   ],
   "source": [
    "full_data_timeseries.shape"
   ]
  },
  {
   "cell_type": "code",
   "execution_count": 26,
   "id": "91b6936f-25ea-4a9e-aa69-210c4d602bc4",
   "metadata": {},
   "outputs": [],
   "source": [
    "full_data_timeseries[full_data_timeseries['date'] == '2019-01-01'].to_csv(os.path.join(directory,folder,'Check.csv'))"
   ]
  },
  {
   "cell_type": "markdown",
   "id": "22cc393a-6562-4dc0-bc6e-a51da8403f8e",
   "metadata": {},
   "source": [
    "## Exploratory Data analysis"
   ]
  },
  {
   "cell_type": "code",
   "execution_count": 27,
   "id": "48f49ee1-0f03-47cc-91b4-ef5a2292d958",
   "metadata": {},
   "outputs": [],
   "source": [
    "agg = {      \n",
    "    'Sales Volumes in L15': 'sum',\n",
    "    'Holiday Flag': 'max',\n",
    "    'Holiday Desc': 'max'\n",
    "}\n",
    "holidays_eda = full_data_timeseries.groupby(['Material Number','date']).aggregate(agg).reset_index()\n",
    "\n",
    "agg = {      \n",
    "    'Sales Volumes in L15': 'sum',\n",
    "    'LockDown Flag': 'max'\n",
    "}\n",
    "lockdowns_eda = full_data_timeseries.groupby(['Material Number','Province','date']).aggregate(agg).reset_index()\n",
    "\n",
    "agg = {      \n",
    "    'Sales Volumes in L15': 'sum',\n",
    "    'Fuel Price': 'mean'\n",
    "}\n",
    "price_eda = full_data_timeseries.groupby(['Material Number','date']).aggregate(agg).reset_index()\n",
    "\n",
    "agg = {      \n",
    "    'Sales Volumes in L15': 'sum',\n",
    "    'Loyalty Flag': 'max',\n",
    "    'Estimated Budget in ZAR': 'max'\n",
    "    \n",
    "}\n",
    "loyalty_eda = full_data_timeseries.groupby(['Material Number','date']).aggregate(agg).reset_index()\n",
    "\n",
    "agg = {      \n",
    "    'Sales Volumes in L15': 'sum',\n",
    "    'Marketing Flag': 'max',\n",
    "    'Estimated Budget in USD': 'max'\n",
    "    \n",
    "}\n",
    "marketing_eda = full_data_timeseries.groupby(['Material Number','date']).aggregate(agg).reset_index()"
   ]
  },
  {
   "cell_type": "code",
   "execution_count": 28,
   "id": "88cb312a-f023-47a0-b683-829f9f7a12ce",
   "metadata": {},
   "outputs": [],
   "source": [
    "holidays_eda['Month'] = holidays_eda.date.dt.month\n",
    "holidays_eda['Day'] = holidays_eda['date'].dt.dayofyear\n",
    "\n",
    "lockdowns_eda['Month'] = lockdowns_eda.date.dt.month\n",
    "lockdowns_eda['Day'] = lockdowns_eda['date'].dt.dayofyear\n",
    "\n",
    "price_eda['Month'] = price_eda.date.dt.month\n",
    "price_eda['Day'] = price_eda['date'].dt.dayofyear\n",
    "\n",
    "loyalty_eda['Month'] = loyalty_eda.date.dt.month\n",
    "loyalty_eda['Day'] = loyalty_eda['date'].dt.dayofyear\n",
    "\n",
    "marketing_eda['Month'] = marketing_eda.date.dt.month\n",
    "marketing_eda['Day'] = marketing_eda['date'].dt.dayofyear"
   ]
  },
  {
   "cell_type": "code",
   "execution_count": 29,
   "id": "10646ad1-5f01-4f3e-a46b-119d4970a795",
   "metadata": {},
   "outputs": [],
   "source": [
    "folder = 'EDA'\n",
    "filename = 'Holidays_EDA.csv'\n",
    "write_path = os.path.join(directory,folder,filename)\n",
    "holidays_eda.to_csv(write_path)\n",
    "\n",
    "folder = 'EDA'\n",
    "filename = 'Lockdowns_EDA.csv'\n",
    "write_path = os.path.join(directory,folder,filename)\n",
    "lockdowns_eda.to_csv(write_path)\n",
    "\n",
    "folder = 'EDA'\n",
    "filename = 'FuelPrice_EDA.csv'\n",
    "write_path = os.path.join(directory,folder,filename)\n",
    "price_eda.to_csv(write_path)\n",
    "\n",
    "folder = 'EDA'\n",
    "filename = 'Loyalty_EDA.csv'\n",
    "write_path = os.path.join(directory,folder,filename)\n",
    "loyalty_eda.to_csv(write_path)\n",
    "\n",
    "folder = 'EDA'\n",
    "filename = 'Marketing_EDA.csv'\n",
    "write_path = os.path.join(directory,folder,filename)\n",
    "marketing_eda.to_csv(write_path)"
   ]
  }
 ],
 "metadata": {
  "kernelspec": {
   "display_name": "Python 3 (ipykernel)",
   "language": "python",
   "name": "python3"
  },
  "language_info": {
   "codemirror_mode": {
    "name": "ipython",
    "version": 3
   },
   "file_extension": ".py",
   "mimetype": "text/x-python",
   "name": "python",
   "nbconvert_exporter": "python",
   "pygments_lexer": "ipython3",
   "version": "3.11.2"
  }
 },
 "nbformat": 4,
 "nbformat_minor": 5
}
